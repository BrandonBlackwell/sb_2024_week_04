{
 "cells": [
  {
   "cell_type": "markdown",
   "id": "aad3b3c0-2614-48d9-b87b-8f2282a85511",
   "metadata": {},
   "source": [
    "# Exercise 02: Data Normalization\n",
    "\n",
    "In this exercise, you will explore the effects of data normalization (shifting and scaling)."
   ]
  },
  {
   "cell_type": "code",
   "execution_count": null,
   "id": "4c162cd2-a7e4-426d-aa10-5c2662e0323a",
   "metadata": {},
   "outputs": [],
   "source": [
    "import sys\n",
    "!{sys.executable} -m pip install -U pip\n",
    "!{sys.executable} -m pip install -U scikit-learn matplotlib"
   ]
  },
  {
   "cell_type": "markdown",
   "id": "b3b5b7d6-725a-4379-8052-2a2a4bc9c65e",
   "metadata": {},
   "source": [
    "The following function generates two datasets.  You don't need to know how it works..."
   ]
  },
  {
   "cell_type": "code",
   "execution_count": null,
   "id": "f23ecdd2-13b4-4b30-b421-b0869555764f",
   "metadata": {},
   "outputs": [],
   "source": [
    "import numpy as np\n",
    "\n",
    "def generate_data ():\n",
    "    N_samples = 100\n",
    "    Sigma = [\n",
    "        [ 1.0, 0.9 ],\n",
    "        [ 0.9, 1.0 ]\n",
    "    ]\n",
    "    \n",
    "    X_1 = np.random.default_rng().multivariate_normal([0.0, 0.0], Sigma, N_samples)\n",
    "    X_2 = np.copy(X_1);\n",
    "    X_2[:,0] = X_2[:,0]*1000 + 3000;\n",
    "    X_2[:,1] = X_2[:,1] + 50;\n",
    "\n",
    "    return (X_1, X_2)\n",
    "\n",
    "X_1, X_2 = generate_data()"
   ]
  },
  {
   "cell_type": "markdown",
   "id": "7b519971-438f-4ec0-af0e-00c471516a43",
   "metadata": {},
   "source": [
    "Let's take a look at a scatterplot of the first dataset."
   ]
  },
  {
   "cell_type": "code",
   "execution_count": null,
   "id": "0979a5a9-7158-49d5-bfe4-8c4b12bcaeec",
   "metadata": {},
   "outputs": [],
   "source": [
    "import matplotlib.pyplot as plt\n",
    "\n",
    "ax_1 = plt.gca()\n",
    "plt.scatter(X_1[:,0], X_1[:,1]);\n",
    "plt.title('X_1')\n",
    "ax_1.set_xlabel('f_1')\n",
    "ax_1.set_ylabel('f_2');"
   ]
  },
  {
   "cell_type": "markdown",
   "id": "8fb70e7b-5614-4a61-ba23-d0150a551ab7",
   "metadata": {},
   "source": [
    "**Are these two features highly correlated?**"
   ]
  },
  {
   "cell_type": "markdown",
   "id": "351dfadb-3e2e-4e9c-95fb-fe65ac08c11a",
   "metadata": {},
   "source": [
    "YOUR ANSWER HERE."
   ]
  },
  {
   "cell_type": "markdown",
   "id": "66567043-f2db-4616-b361-0c5b04c6451c",
   "metadata": {},
   "source": [
    "Now let's take a look at the second dataset."
   ]
  },
  {
   "cell_type": "code",
   "execution_count": null,
   "id": "d9e06b85-69e1-4922-8d82-57800ccd28af",
   "metadata": {},
   "outputs": [],
   "source": [
    "ax_2 = plt.gca()\n",
    "plt.scatter(X_2[:,0], X_2[:,1]);\n",
    "plt.title('X_2')\n",
    "ax_2.set_ylim(0, 500)\n",
    "ax_2.set_xlim(0, 6000)\n",
    "ax_2.set_xlabel('f_1')\n",
    "ax_2.set_ylabel('f_2');"
   ]
  },
  {
   "cell_type": "markdown",
   "id": "2c7c7e47-7526-46d8-b7d3-bbfa732b9c9f",
   "metadata": {},
   "source": [
    "**Are these features highly correlated?**"
   ]
  },
  {
   "cell_type": "markdown",
   "id": "7cea0ff4-515d-4b12-8ee2-29017b9f44fe",
   "metadata": {},
   "source": [
    "YOUR ANSWER HERE."
   ]
  },
  {
   "cell_type": "markdown",
   "id": "e1b42ac5-9c7d-4190-804b-1713b7511275",
   "metadata": {},
   "source": [
    "Let's see if seaborn's `pairplot` agrees."
   ]
  },
  {
   "cell_type": "code",
   "execution_count": null,
   "id": "e97cf111-a5bf-4c00-abb7-ccacfb37034e",
   "metadata": {},
   "outputs": [],
   "source": [
    "import seaborn as sns\n",
    "import pandas as pd\n",
    "\n",
    "sns.set(style=\"ticks\", color_codes=True)\n",
    "\n",
    "df_1 = pd.DataFrame(\n",
    "    data=X_1,\n",
    "    columns=['f_1', 'f_2']\n",
    ")\n",
    "\n",
    "df_2 = pd.DataFrame(\n",
    "    data=X_2,\n",
    "    columns=['f_1', 'f_2']\n",
    ")\n",
    "\n",
    "g_1 = sns.pairplot(df_1)\n",
    "g_1.fig.suptitle('X_1', y=1.1);\n",
    "\n",
    "g_2 = sns.pairplot(df_2)\n",
    "g_2.fig.suptitle('X_2', y=1.1);"
   ]
  },
  {
   "cell_type": "markdown",
   "id": "87f1a3ca-2ea0-452b-8f0b-927f85e860de",
   "metadata": {},
   "source": [
    "**According to the plots above, are the features strongly correlated in one dataset or both?**"
   ]
  },
  {
   "cell_type": "markdown",
   "id": "13661094-9d68-4d17-be76-3643e8d562f9",
   "metadata": {},
   "source": [
    "YOUR ANSWER HERE."
   ]
  },
  {
   "cell_type": "markdown",
   "id": "ebda4cba-6396-4b5c-a5d6-6e920aaa9502",
   "metadata": {},
   "source": [
    "**Explain why the original plots didn't show all of the correlations.**"
   ]
  },
  {
   "cell_type": "markdown",
   "id": "f47cbcd6-2d46-442f-99d5-26a6021efe1f",
   "metadata": {},
   "source": [
    "YOUR ANSWER HERE."
   ]
  },
  {
   "cell_type": "code",
   "execution_count": null,
   "id": "f53da799-3571-4645-a8c4-dda35f981533",
   "metadata": {},
   "outputs": [],
   "source": []
  }
 ],
 "metadata": {
  "kernelspec": {
   "display_name": "Python 3 (ipykernel)",
   "language": "python",
   "name": "python3"
  },
  "language_info": {
   "codemirror_mode": {
    "name": "ipython",
    "version": 3
   },
   "file_extension": ".py",
   "mimetype": "text/x-python",
   "name": "python",
   "nbconvert_exporter": "python",
   "pygments_lexer": "ipython3",
   "version": "3.10.13"
  }
 },
 "nbformat": 4,
 "nbformat_minor": 5
}
